{
  "nbformat": 4,
  "nbformat_minor": 0,
  "metadata": {
    "colab": {
      "provenance": [],
      "authorship_tag": "ABX9TyNhyCjKaBoaUnhs0e8B8tKQ",
      "include_colab_link": true
    },
    "kernelspec": {
      "name": "python3",
      "display_name": "Python 3"
    },
    "language_info": {
      "name": "python"
    }
  },
  "cells": [
    {
      "cell_type": "markdown",
      "metadata": {
        "id": "view-in-github",
        "colab_type": "text"
      },
      "source": [
        "<a href=\"https://colab.research.google.com/github/marianeberga/Teste_Scrum/blob/main/Teste_Redefinicao.ipynb\" target=\"_parent\"><img src=\"https://colab.research.google.com/assets/colab-badge.svg\" alt=\"Open In Colab\"/></a>"
      ]
    },
    {
      "cell_type": "code",
      "source": [
        "# ===========================\n",
        "# Password Reset Service (Colab)\n",
        "# ===========================\n",
        "import os\n",
        "import re\n",
        "import hmac\n",
        "import base64\n",
        "import sqlite3\n",
        "import hashlib\n",
        "import secrets\n",
        "from datetime import datetime, timedelta, timezone\n",
        "from typing import Optional"
      ],
      "metadata": {
        "id": "yq_RvUyeADi-"
      },
      "execution_count": 5,
      "outputs": []
    },
    {
      "cell_type": "code",
      "source": [
        "# -------- Configurações e Segurança --------\n",
        "DEV_MODE = True                               # Mostra OTP/links no console e em \"Outbox\"\n",
        "APP_BASE_URL = \"https://exemplo-app.local\"    # Somente para compor o link (simulado)\n",
        "RESET_EXPIRES_MIN = 15                        # Validade em minutos (OTP/token)\n",
        "MAX_OTP_ATTEMPTS = 5                          # Tentativas máximas do OTP\n",
        "PBKDF2_ITERATIONS = 310000                    # Iterações PBKDF2\n",
        "DB_PATH = \"auth_demo.db\"                      # Banco local (persistente no Colab até reiniciar)\n",
        "\n",
        "def now_utc():\n",
        "    return datetime.now(timezone.utc)\n",
        "\n",
        "def new_salt(n: int = 16) -> bytes:\n",
        "    return secrets.token_bytes(n)\n",
        "\n",
        "def pbkdf2_hash(value: str, salt: bytes) -> str:\n",
        "    \"\"\"Retorna pbkdf2$<iterations>$<b64salt>$<b64hash>\"\"\"\n",
        "    dk = hashlib.pbkdf2_hmac(\"sha256\", value.encode(\"utf-8\"), salt, PBKDF2_ITERATIONS)\n",
        "    return f\"pbkdf2${PBKDF2_ITERATIONS}${base64.b64encode(salt).decode()}${base64.b64encode(dk).decode()}\"\n",
        "\n",
        "def pbkdf2_verify(value: str, hashed: str) -> bool:\n",
        "    try:\n",
        "        alg, iterations, b64salt, b64hash = hashed.split(\"$\")\n",
        "        if alg != \"pbkdf2\":\n",
        "            return False\n",
        "        salt = base64.b64decode(b64salt.encode())\n",
        "        expected = base64.b64decode(b64hash.encode())\n",
        "        dk = hashlib.pbkdf2_hmac(\"sha256\", value.encode(\"utf-8\"), salt, int(iterations))\n",
        "        return hmac.compare_digest(dk, expected)\n",
        "    except Exception:\n",
        "        return False\n",
        "\n",
        "def make_token() -> str:\n",
        "    return secrets.token_urlsafe(32)  # ~43 chars\n",
        "\n",
        "def hash_token_for_storage(token: str) -> str:\n",
        "    return hashlib.sha256(token.encode(\"utf-8\")).hexdigest()\n",
        "\n",
        "def make_otp() -> str:\n",
        "    return f\"{secrets.randbelow(10**6):06d}\"\n",
        "\n",
        "def check_password_strength(password: str) -> Optional[str]:\n",
        "    \"\"\"\n",
        "    Regras didáticas:\n",
        "    - Min 8 chars, 1 minúscula, 1 maiúscula, 1 dígito, 1 especial\n",
        "    \"\"\"\n",
        "    if len(password) < 8:\n",
        "        return \"A senha deve ter pelo menos 8 caracteres.\"\n",
        "    if not re.search(r\"[a-z]\", password):\n",
        "        return \"A senha deve conter pelo menos 1 letra minúscula.\"\n",
        "    if not re.search(r\"[A-Z]\", password):\n",
        "        return \"A senha deve conter pelo menos 1 letra maiúscula.\"\n",
        "    if not re.search(r\"\\d\", password):\n",
        "        return \"A senha deve conter pelo menos 1 dígito.\"\n",
        "    if not re.search(r\"[^\\w\\s]\", password):\n",
        "        return \"A senha deve conter pelo menos 1 caractere especial.\"\n",
        "    return None\n",
        "\n",
        "def normalize_phone(phone: str) -> str:\n",
        "    return re.sub(r\"\\D\", \"\", phone or \"\")\n",
        "\n",
        "# -------- Banco de dados (SQLite) --------\n",
        "def get_conn():\n",
        "    conn = sqlite3.connect(DB_PATH)\n",
        "    conn.row_factory = sqlite3.Row\n",
        "    return conn\n",
        "\n",
        "def init_db():\n",
        "    with get_conn() as conn:\n",
        "        c = conn.cursor()\n",
        "        c.execute(\"\"\"\n",
        "        CREATE TABLE IF NOT EXISTS users (\n",
        "            id INTEGER PRIMARY KEY AUTOINCREMENT,\n",
        "            email TEXT UNIQUE,\n",
        "            phone TEXT UNIQUE,\n",
        "            password_hash TEXT NOT NULL,\n",
        "            created_at TEXT NOT NULL\n",
        "        )\"\"\")\n",
        "        c.execute(\"\"\"\n",
        "        CREATE TABLE IF NOT EXISTS password_resets (\n",
        "            id INTEGER PRIMARY KEY AUTOINCREMENT,\n",
        "            user_id INTEGER NOT NULL,\n",
        "            token_hash TEXT,\n",
        "            otp_hash TEXT,\n",
        "            expires_at TEXT NOT NULL,\n",
        "            attempts INTEGER NOT NULL DEFAULT 0,\n",
        "            max_attempts INTEGER NOT NULL DEFAULT 5,\n",
        "            used INTEGER NOT NULL DEFAULT 0,\n",
        "            created_at TEXT NOT NULL,\n",
        "            FOREIGN KEY(user_id) REFERENCES users(id)\n",
        "        )\"\"\")\n",
        "        conn.commit()\n",
        "\n",
        "def clear_all():\n",
        "    with get_conn() as conn:\n",
        "        c = conn.cursor()\n",
        "        c.execute(\"DELETE FROM password_resets\")\n",
        "        c.execute(\"DELETE FROM users\")\n",
        "        conn.commit()\n",
        "\n",
        "def create_user(email: str, phone: str, password: str):\n",
        "    err = check_password_strength(password)\n",
        "    if err:\n",
        "        raise ValueError(err)\n",
        "    pwd_hash = pbkdf2_hash(password, new_salt())\n",
        "    with get_conn() as conn:\n",
        "        c = conn.cursor()\n",
        "        c.execute(\n",
        "            \"INSERT INTO users (email, phone, password_hash, created_at) VALUES (?, ?, ?, ?)\",\n",
        "            (email.lower(), normalize_phone(phone), pwd_hash, now_utc().isoformat()),\n",
        "        )\n",
        "        conn.commit()\n",
        "\n",
        "def find_user_by_identifier(identifier: str) -> Optional[sqlite3.Row]:\n",
        "    email = identifier.strip().lower()\n",
        "    phone = normalize_phone(identifier)\n",
        "    with get_conn() as conn:\n",
        "        c = conn.cursor()\n",
        "        c.execute(\"SELECT * FROM users WHERE lower(email)=?\", (email,))\n",
        "        user = c.fetchone()\n",
        "        if user:\n",
        "            return user\n",
        "        if phone:\n",
        "            c.execute(\"SELECT * FROM users WHERE phone=?\", (phone,))\n",
        "            user = c.fetchone()\n",
        "            if user:\n",
        "                return user\n",
        "    return None\n",
        "\n",
        "def insert_password_reset(user_id: int, otp: str, token: str):\n",
        "    otp_hash = pbkdf2_hash(otp, new_salt())\n",
        "    token_hash = hash_token_for_storage(token)\n",
        "    expires_at = (now_utc() + timedelta(minutes=RESET_EXPIRES_MIN)).isoformat()\n",
        "    with get_conn() as conn:\n",
        "        c = conn.cursor()\n",
        "        c.execute(\"\"\"\n",
        "        INSERT INTO password_resets (user_id, token_hash, otp_hash, expires_at, attempts, max_attempts, used, created_at)\n",
        "        VALUES (?, ?, ?, ?, 0, ?, 0, ?)\n",
        "        \"\"\", (user_id, token_hash, otp_hash, expires_at, MAX_OTP_ATTEMPTS, now_utc().isoformat()))\n",
        "        conn.commit()\n",
        "\n",
        "def find_valid_reset_for_user(user_id: int) -> Optional[sqlite3.Row]:\n",
        "    with get_conn() as conn:\n",
        "        c = conn.cursor()\n",
        "        c.execute(\"\"\"\n",
        "        SELECT * FROM password_resets\n",
        "        WHERE user_id=? AND used=0 AND expires_at > ?\n",
        "        ORDER BY id DESC LIMIT 1\n",
        "        \"\"\", (user_id, now_utc().isoformat()))\n",
        "        return c.fetchone()\n",
        "\n",
        "def find_valid_reset_by_identifier(identifier: str) -> Optional[sqlite3.Row]:\n",
        "    user = find_user_by_identifier(identifier)\n",
        "    if not user:\n",
        "        return None\n",
        "    return find_valid_reset_for_user(user[\"id\"])\n",
        "\n",
        "def find_reset_by_token(token: str) -> Optional[sqlite3.Row]:\n",
        "    token_hash = hash_token_for_storage(token)\n",
        "    with get_conn() as conn:\n",
        "        c = conn.cursor()\n",
        "        c.execute(\"\"\"\n",
        "        SELECT * FROM password_resets\n",
        "        WHERE token_hash=? AND used=0 AND expires_at > ?\n",
        "        ORDER BY id DESC LIMIT 1\n",
        "        \"\"\", (token_hash, now_utc().isoformat()))\n",
        "        return c.fetchone()\n",
        "\n",
        "def mark_reset_used(reset_id: int):\n",
        "    with get_conn() as conn:\n",
        "        c = conn.cursor()\n",
        "        c.execute(\"UPDATE password_resets SET used=1 WHERE id=?\", (reset_id,))\n",
        "        conn.commit()\n",
        "\n",
        "def update_attempts(reset_id: int, attempts: int):\n",
        "    with get_conn() as conn:\n",
        "        c = conn.cursor()\n",
        "        c.execute(\"UPDATE password_resets SET attempts=? WHERE id=?\", (attempts, reset_id))\n",
        "        conn.commit()\n",
        "\n",
        "def update_user_password(user_id: int, new_password: str):\n",
        "    err = check_password_strength(new_password)\n",
        "    if err:\n",
        "        raise ValueError(err)\n",
        "    new_hash = pbkdf2_hash(new_password, new_salt())\n",
        "    with get_conn() as conn:\n",
        "        c = conn.cursor()\n",
        "        c.execute(\"UPDATE users SET password_hash=? WHERE id=?\", (new_hash, user_id))\n",
        "        conn.commit()\n",
        "\n",
        "# -------- \"Outbox\" de Desenvolvimento (para visualizar OTP/links) --------\n",
        "class DevOutbox:\n",
        "    emails = {}     # emails[email] = {\"subject\": ..., \"body\": ...}\n",
        "    sms = {}        # sms[phone] = {\"body\": ...}\n",
        "    last_otp = {}   # last_otp[identifier] = \"123456\"\n",
        "    last_link = {}  # last_link[identifier] = \"https://...\"\n",
        "\n",
        "    @classmethod\n",
        "    def send_email(cls, to_email: str, subject: str, body: str):\n",
        "        cls.emails[to_email.lower()] = {\"subject\": subject, \"body\": body}\n",
        "        if DEV_MODE:\n",
        "            print(f\"[DEV][EMAIL] To: {to_email}\\nSubject: {subject}\\n{body}\\n\")\n",
        "\n",
        "    @classmethod\n",
        "    def send_sms(cls, to_phone: str, body: str):\n",
        "        phone = normalize_phone(to_phone)\n",
        "        cls.sms[phone] = {\"body\": body}\n",
        "        if DEV_MODE:\n",
        "            print(f\"[DEV][SMS] To: +{phone}\\n{body}\\n\")\n",
        "\n",
        "# -------- Serviço de Recuperação --------\n",
        "class PasswordResetService:\n",
        "\n",
        "    @staticmethod\n",
        "    def request_reset(identifier: str):\n",
        "        \"\"\"Fluxo: gerar OTP + token, gravar no BD e 'enviar' por e-mail ou SMS.\"\"\"\n",
        "        identifier = identifier.strip()\n",
        "        user = find_user_by_identifier(identifier)\n",
        "\n",
        "        # Gera artefatos sempre (resposta neutra p/ não revelar existência)\n",
        "        otp = make_otp()\n",
        "        token = make_token()\n",
        "        link = f\"{APP_BASE_URL}/reset-password?token={token}\"\n",
        "\n",
        "        if user:\n",
        "            insert_password_reset(user[\"id\"], otp, token)\n",
        "\n",
        "            if \"@\" in identifier:\n",
        "                subject = \"Redefinição de Senha\"\n",
        "                body = (\n",
        "                    \"Você solicitou a redefinição de senha.\\n\\n\"\n",
        "                    f\"Código OTP: {otp}\\n\"\n",
        "                    f\"Link (válido por {RESET_EXPIRES_MIN} minutos): {link}\\n\\n\"\n",
        "                    \"Se não foi você, ignore esta mensagem.\"\n",
        "                )\n",
        "                DevOutbox.send_email(identifier, subject, body)\n",
        "            else:\n",
        "                phone = normalize_phone(identifier)\n",
        "                body = f\"OTP: {otp}\\nLink: {link}\\nValidade: {RESET_EXPIRES_MIN} min\"\n",
        "                DevOutbox.send_sms(phone, body)\n",
        "\n",
        "        # Guarda na outbox para facilitar o teste, mesmo sem usuário real\n",
        "        DevOutbox.last_otp[identifier] = otp\n",
        "        DevOutbox.last_link[identifier] = link\n",
        "\n",
        "        # Resposta neutra\n",
        "        return {\"message\": \"Se o identificador existir, enviaremos instruções de redefinição.\"}\n",
        "\n",
        "    @staticmethod\n",
        "    def confirm_otp(identifier: str, otp: str):\n",
        "        \"\"\"Valida OTP e retorna novo reset_token de uso único.\"\"\"\n",
        "        pr = find_valid_reset_by_identifier(identifier)\n",
        "        if not pr:\n",
        "            # Não revela existência\n",
        "            return {\"message\": \"Se o identificador existir, enviaremos instruções de redefinição.\"}\n",
        "\n",
        "        if pr[\"attempts\"] >= pr[\"max_attempts\"]:\n",
        "            raise ValueError(\"Limite de tentativas excedido. Solicite um novo código.\")\n",
        "\n",
        "        if not pbkdf2_verify(otp.strip(), pr[\"otp_hash\"]):\n",
        "            update_attempts(pr[\"id\"], pr[\"attempts\"] + 1)\n",
        "            raise ValueError(\"Código OTP inválido.\")\n",
        "\n",
        "        # Gera novo token e substitui o hash do token no registro\n",
        "        new_token = make_token()\n",
        "        new_token_hash = hash_token_for_storage(new_token)\n",
        "        with get_conn() as conn:\n",
        "            c = conn.cursor()\n",
        "            c.execute(\"UPDATE password_resets SET token_hash=? WHERE id=?\", (new_token_hash, pr[\"id\"]))\n",
        "            conn.commit()\n",
        "\n",
        "        return {\"reset_token\": new_token, \"expires_in_minutes\": RESET_EXPIRES_MIN}\n",
        "\n",
        "    @staticmethod\n",
        "    def reset_password(reset_token: str, new_password: str):\n",
        "        \"\"\"Redefine a senha se o token for válido e não expirado/uso único.\"\"\"\n",
        "        pr = find_reset_by_token(reset_token.strip())\n",
        "        if not pr:\n",
        "            raise ValueError(\"Token inválido ou expirado.\")\n",
        "\n",
        "        # Descobre user_id\n",
        "        with get_conn() as conn:\n",
        "            c = conn.cursor()\n",
        "            c.execute(\"SELECT user_id FROM password_resets WHERE id=?\", (pr[\"id\"],))\n",
        "            user_id = c.fetchone()[\"user_id\"]\n",
        "\n",
        "        update_user_password(user_id, new_password)\n",
        "        mark_reset_used(pr[\"id\"])\n",
        "        return {\"message\": \"Senha redefinida com sucesso.\"}\n",
        "\n",
        "# Inicializa o banco ao importar esta célula\n",
        "init_db()\n",
        "print(\"✅ Serviço de recuperação carregado e banco inicializado.\")\n"
      ],
      "metadata": {
        "colab": {
          "base_uri": "https://localhost:8080/"
        },
        "id": "eME2_VRu_T4H",
        "outputId": "c6db53cf-8b0b-42bf-faeb-94e1d0675a12"
      },
      "execution_count": 6,
      "outputs": [
        {
          "output_type": "stream",
          "name": "stdout",
          "text": [
            "✅ Serviço de recuperação carregado e banco inicializado.\n"
          ]
        }
      ]
    },
    {
      "cell_type": "code",
      "source": [
        "# Recria dados de exemplo (opcional)\n",
        "clear_all()\n",
        "init_db()\n",
        "\n",
        "# Usuárias/os de exemplo\n",
        "try:\n",
        "    create_user(\"alice@example.com\", \"+55 (41) 99999-0000\", \"Senha@123\")\n",
        "    create_user(\"bob@example.com\",   \"+55 (41) 98888-1111\", \"BobSeguro@2024!\")\n",
        "    print(\"👤 Usuários criados com sucesso.\")\n",
        "except Exception as e:\n",
        "    print(\"Aviso:\", e)\n"
      ],
      "metadata": {
        "colab": {
          "base_uri": "https://localhost:8080/"
        },
        "id": "gZbvQRQWAGYt",
        "outputId": "577029be-3bfa-41b4-b7ab-b798dbda531e"
      },
      "execution_count": 7,
      "outputs": [
        {
          "output_type": "stream",
          "name": "stdout",
          "text": [
            "👤 Usuários criados com sucesso.\n"
          ]
        }
      ]
    },
    {
      "cell_type": "code",
      "source": [
        "# Por e-mail:\n",
        "PasswordResetService.request_reset(\"alice@example.com\")\n",
        "\n",
        "# OU por celular (formato livre; será normalizado):\n",
        "# PasswordResetService.request_reset(\"+55 41 99999-0000\")\n",
        "\n",
        "print(\"\\n🔎 Outbox DEV (acesso rápido em teste):\")\n",
        "print(\"Último OTP:\", DevOutbox.last_otp.get(\"alice@example.com\"))\n",
        "print(\"Último Link:\", DevOutbox.last_link.get(\"alice@example.com\"))\n"
      ],
      "metadata": {
        "colab": {
          "base_uri": "https://localhost:8080/"
        },
        "id": "a0317bn4ALAo",
        "outputId": "e1a2cbdd-91be-4957-c7ce-08bfc99154fc"
      },
      "execution_count": 8,
      "outputs": [
        {
          "output_type": "stream",
          "name": "stdout",
          "text": [
            "[DEV][EMAIL] To: alice@example.com\n",
            "Subject: Redefinição de Senha\n",
            "Você solicitou a redefinição de senha.\n",
            "\n",
            "Código OTP: 111160\n",
            "Link (válido por 15 minutos): https://exemplo-app.local/reset-password?token=-LA3STIFgvl5swjY833lPWGhxAkHmQilS_KKaIKYHIw\n",
            "\n",
            "Se não foi você, ignore esta mensagem.\n",
            "\n",
            "\n",
            "🔎 Outbox DEV (acesso rápido em teste):\n",
            "Último OTP: 111160\n",
            "Último Link: https://exemplo-app.local/reset-password?token=-LA3STIFgvl5swjY833lPWGhxAkHmQilS_KKaIKYHIw\n"
          ]
        }
      ]
    },
    {
      "cell_type": "code",
      "source": [
        "# Cole aqui o OTP impresso na célula anterior:\n",
        "otp_recebido = DevOutbox.last_otp.get(\"alice@example.com\")  # simulação (em produção o usuário digita)\n",
        "print(\"Usando OTP:\", otp_recebido)\n",
        "\n",
        "resp = PasswordResetService.confirm_otp(\"alice@example.com\", otp_recebido)\n",
        "resp\n"
      ],
      "metadata": {
        "colab": {
          "base_uri": "https://localhost:8080/"
        },
        "id": "vIX4qmH_APZg",
        "outputId": "390fe4e0-365c-4839-d4ec-0f6e4e0842cf"
      },
      "execution_count": 9,
      "outputs": [
        {
          "output_type": "stream",
          "name": "stdout",
          "text": [
            "Usando OTP: 111160\n"
          ]
        },
        {
          "output_type": "execute_result",
          "data": {
            "text/plain": [
              "{'reset_token': 'S0wN6KyS1-yw9Hqb32FMwKK1cJ6Pq7J5wwxQM-geBpA',\n",
              " 'expires_in_minutes': 15}"
            ]
          },
          "metadata": {},
          "execution_count": 9
        }
      ]
    },
    {
      "cell_type": "code",
      "source": [
        "reset_token = resp.get(\"reset_token\")  # do passo anterior\n",
        "nova_senha = \"NovaSenha@2025!\"         # exemplo (atende aos critérios)\n",
        "\n",
        "PasswordResetService.reset_password(reset_token, nova_senha)\n"
      ],
      "metadata": {
        "colab": {
          "base_uri": "https://localhost:8080/"
        },
        "id": "nBCaldlbATWm",
        "outputId": "a8313059-34bb-49e7-f480-3384a119d5be"
      },
      "execution_count": 10,
      "outputs": [
        {
          "output_type": "execute_result",
          "data": {
            "text/plain": [
              "{'message': 'Senha redefinida com sucesso.'}"
            ]
          },
          "metadata": {},
          "execution_count": 10
        }
      ]
    },
    {
      "cell_type": "code",
      "source": [
        "# Solicitar - Via celular\n",
        "PasswordResetService.request_reset(\"+55 (41) 98888-1111\")\n",
        "otp_bob = DevOutbox.last_otp.get(\"+55 (41) 98888-1111\")\n",
        "print(\"OTP Bob:\", otp_bob)\n",
        "\n",
        "# Confirmar\n",
        "resp_bob = PasswordResetService.confirm_otp(\"+55 (41) 98888-1111\", otp_bob)\n",
        "resp_bob\n",
        "\n",
        "# Redefinir\n",
        "PasswordResetService.reset_password(resp_bob[\"reset_token\"], \"BobForte@2025!\")\n"
      ],
      "metadata": {
        "colab": {
          "base_uri": "https://localhost:8080/"
        },
        "id": "49VVH8RuAWS7",
        "outputId": "dab38e59-6c92-410b-e615-547934d8b9ba"
      },
      "execution_count": 11,
      "outputs": [
        {
          "output_type": "stream",
          "name": "stdout",
          "text": [
            "[DEV][SMS] To: +5541988881111\n",
            "OTP: 945867\n",
            "Link: https://exemplo-app.local/reset-password?token=IFhaXuBPpM8b8VlqaUrxXSBY_N995GMIa5YtavhUA7A\n",
            "Validade: 15 min\n",
            "\n",
            "OTP Bob: 945867\n"
          ]
        },
        {
          "output_type": "execute_result",
          "data": {
            "text/plain": [
              "{'message': 'Senha redefinida com sucesso.'}"
            ]
          },
          "metadata": {},
          "execution_count": 11
        }
      ]
    }
  ]
}